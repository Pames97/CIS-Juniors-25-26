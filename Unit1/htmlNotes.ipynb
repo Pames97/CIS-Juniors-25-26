{
 "cells": [
  {
   "cell_type": "markdown",
   "id": "d19ca21a",
   "metadata": {},
   "source": [
    "# Introduction to HTML "
   ]
  },
  {
   "cell_type": "markdown",
   "id": "fb93c418",
   "metadata": {},
   "source": [
    "## HTML Defined\n",
    "\n",
    "**HTML** - Hypertext Markup Language - This is the language used to describe your content.\n",
    "\n",
    "**CSS** - Cascading Style Sheets - This is the language used to design the way your content looks on the web \n",
    "\n",
    "**JavaScript** - Not to be confused with Java - JS is the language use to adding Interactivity to web pages \n",
    "\n",
    "### These are the 3 main web languages "
   ]
  },
  {
   "cell_type": "markdown",
   "id": "dfb5e59d",
   "metadata": {},
   "source": [
    "### Web Browsers \n",
    "\n",
    "* Software used for browsing, reading, and translating web documents \n",
    "* Examples of web browsers:\n",
    "    * Google Chrome\n",
    "    * Firefox\n",
    "    * Microsoft Edge \n",
    "    * Oprah GX\n",
    "    * Duck Duck Go\n",
    "    * Safari \n",
    "    * Brave \n",
    "    * Internet Explorer (MS) - Depricated \n",
    "    * Netscape - Depricated\n",
    "* Why you do not use old or UN-Updated browsers \n",
    "    * Security - security updates"
   ]
  },
  {
   "cell_type": "markdown",
   "id": "5971301e",
   "metadata": {},
   "source": [
    "### HTML Skeleton/Structure\n",
    "\n",
    "#### See index.html in this folder\n",
    "\n",
    "### Structure of an HTML Tag:\n",
    "\n",
    "<meta charset=\"UTF-8\">\n",
    "\n",
    "* Tag name\n",
    "* Attribute(s) \n",
    "* Attribute values "
   ]
  },
  {
   "cell_type": "markdown",
   "id": "51fdd244",
   "metadata": {},
   "source": [
    "### Key Concepts of HTML\n",
    "\n",
    "* Most HTML Tags have an Opening & Closing Tag\n",
    "* HTML Elements - These are created by a complete pair of tags with content \n",
    "* Attributes - additional information about these elements \n",
    "\n",
    "#### Essential HTML Elements:\n",
    "\n",
    "* <h1></h1> through <h6></h6> - headings, H1 is the largest by default, H6 is the smallest \n",
    "* <p></p> - paragraph element \n",
    "-Line Break "
   ]
  },
  {
   "cell_type": "markdown",
   "id": "9ae44de5",
   "metadata": {},
   "source": []
  }
 ],
 "metadata": {
  "language_info": {
   "name": "python"
  }
 },
 "nbformat": 4,
 "nbformat_minor": 5
}
